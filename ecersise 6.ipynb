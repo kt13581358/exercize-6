{
 "cells": [
  {
   "cell_type": "code",
   "execution_count": 1,
   "metadata": {},
   "outputs": [
    {
     "name": "stdout",
     "output_type": "stream",
     "text": [
      "{'a': 400, 'b': 400, 'c': 300, 'd': 400}\n"
     ]
    }
   ],
   "source": [
    "#exercise 1\n",
    "d1 = {'a': 100, 'b': 200, 'c':300}\n",
    "\n",
    "d2 = {'a': 300, 'b': 200, 'd':400}\n",
    "d ={}\n",
    "for k,v in d1.items():\n",
    "    d[k] = v\n",
    "for k,v in d2.items():\n",
    "    if k in d:\n",
    "        d[k] += v\n",
    "    else:\n",
    "        d[k] = v\n",
    "print(d)"
   ]
  },
  {
   "cell_type": "code",
   "execution_count": null,
   "metadata": {},
   "outputs": [],
   "source": [
    "#exercise 2\n",
    "t1 = ('Ali','Reza','Mina','Sara')\n",
    "t2 = (25,30,25,30)\n",
    "list1 = list(zip(t1,t2))\n",
    "list1\n"
   ]
  },
  {
   "cell_type": "code",
   "execution_count": null,
   "metadata": {},
   "outputs": [],
   "source": [
    "set(t2)"
   ]
  },
  {
   "cell_type": "code",
   "execution_count": null,
   "metadata": {},
   "outputs": [],
   "source": [
    "dict1 = dict(zip(t1,t2))\n",
    "dict1"
   ]
  },
  {
   "cell_type": "code",
   "execution_count": null,
   "metadata": {},
   "outputs": [],
   "source": [
    "dict2 = dict(sorted(dict1.items(), key=lambda item: item[1]))\n",
    "dict2"
   ]
  },
  {
   "cell_type": "code",
   "execution_count": null,
   "metadata": {},
   "outputs": [],
   "source": [
    "x = dict2.keys()\n",
    "x"
   ]
  },
  {
   "cell_type": "code",
   "execution_count": null,
   "metadata": {},
   "outputs": [],
   "source": [
    "dict1 = {'Ali': 25, 'Reza': 30, 'Mina': 25, 'Sara': 30}\n",
    "dict2 = {}\n",
    "for k,v in dict1.items():\n",
    "    if v in dict2:\n",
    "        dict2[v] += 1\n",
    "    else:\n",
    "        dict2[v] = 1\n",
    "\n",
    "print(dict2)"
   ]
  },
  {
   "cell_type": "code",
   "execution_count": null,
   "metadata": {},
   "outputs": [],
   "source": [
    "#Exercise 3\n",
    "people = [{\"name\": \"Ali\", \"age\": 23},{\"name\": \"Mina\", \"age\": 30},{\"name\": \"Reza\", \"age\": 25},{\"name\": \"Sara\", \"age\": 28}]\n",
    "l1 = []\n",
    "for item in people:\n",
    "    if item['age'] > 25:\n",
    "        l1.append(item)\n",
    "print(l1)\n"
   ]
  },
  {
   "cell_type": "code",
   "execution_count": null,
   "metadata": {},
   "outputs": [],
   "source": [
    "#exercise 4\n",
    "b= [[1, 2, 3], [2, 3, 4], [3, 4, 5]]\n",
    "l3=[]\n",
    "for list in b:\n",
    "    for i in list:\n",
    "        l3.append(i)\n",
    "x = set(l3)\n",
    "x = sorted(x, reverse=True)\n",
    "print(x)\n",
    "x = sorted(x)\n",
    "print(x)"
   ]
  },
  {
   "cell_type": "code",
   "execution_count": 2,
   "metadata": {},
   "outputs": [
    {
     "name": "stdout",
     "output_type": "stream",
     "text": [
      "{5: ['apple'], 3: ['cat', 'dog'], 4: ['book'], 6: ['python']}\n"
     ]
    }
   ],
   "source": [
    "#exercise 5\n",
    "words = [\"apple\", \"cat\", \"dog\", \"book\", \"python\"]\n",
    "dict3={}\n",
    "for item in words:\n",
    "    k = len(item)\n",
    "    list1 = []\n",
    "    #print(k)\n",
    "    for i in range (len(words)):\n",
    "        if len(words[i]) == k:\n",
    "            list1.append(words[i])\n",
    "            #print(list1)  \n",
    "    dict3[k]=list1\n",
    "print(dict3)\n",
    "        "
   ]
  }
 ],
 "metadata": {
  "kernelspec": {
   "display_name": "Python 3",
   "language": "python",
   "name": "python3"
  },
  "language_info": {
   "codemirror_mode": {
    "name": "ipython",
    "version": 3
   },
   "file_extension": ".py",
   "mimetype": "text/x-python",
   "name": "python",
   "nbconvert_exporter": "python",
   "pygments_lexer": "ipython3",
   "version": "3.10.10"
  }
 },
 "nbformat": 4,
 "nbformat_minor": 2
}
