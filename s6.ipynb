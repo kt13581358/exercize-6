{
 "cells": [
  {
   "cell_type": "code",
   "execution_count": 1,
   "metadata": {},
   "outputs": [],
   "source": [
    "size = {'s':1,\n",
    "        'm':2,\n",
    "        'l':3,\n",
    "        'xl':4}"
   ]
  },
  {
   "cell_type": "code",
   "execution_count": 2,
   "metadata": {},
   "outputs": [
    {
     "data": {
      "text/plain": [
       "{'s': 1, 'm': 2, 'l': 3, 'xl': 4}"
      ]
     },
     "execution_count": 2,
     "metadata": {},
     "output_type": "execute_result"
    }
   ],
   "source": [
    "size"
   ]
  },
  {
   "cell_type": "code",
   "execution_count": 3,
   "metadata": {},
   "outputs": [
    {
     "data": {
      "text/plain": [
       "2"
      ]
     },
     "execution_count": 3,
     "metadata": {},
     "output_type": "execute_result"
    }
   ],
   "source": [
    "size['m']"
   ]
  },
  {
   "cell_type": "code",
   "execution_count": 5,
   "metadata": {},
   "outputs": [
    {
     "data": {
      "text/plain": [
       "{1: 's', 2: 'm', 3: 'l', 4: 'xl'}"
      ]
     },
     "execution_count": 5,
     "metadata": {},
     "output_type": "execute_result"
    }
   ],
   "source": [
    "result = {}\n",
    "for k,v in size.items():\n",
    "    result[v] = k\n",
    "result"
   ]
  },
  {
   "cell_type": "code",
   "execution_count": 6,
   "metadata": {},
   "outputs": [
    {
     "data": {
      "text/plain": [
       "{1: 's', 2: 'm', 3: 'l', 4: 'xl'}"
      ]
     },
     "execution_count": 6,
     "metadata": {},
     "output_type": "execute_result"
    }
   ],
   "source": [
    "{v:k for k,v in size.items()}"
   ]
  },
  {
   "cell_type": "code",
   "execution_count": 8,
   "metadata": {},
   "outputs": [
    {
     "data": {
      "text/plain": [
       "[(5, 25), (8, 64), (7, 49), (9, 81)]"
      ]
     },
     "execution_count": 8,
     "metadata": {},
     "output_type": "execute_result"
    }
   ],
   "source": [
    "a = [5,8,7,9]\n",
    "b = [25,64,49,81]\n",
    "list(zip(a,b))"
   ]
  },
  {
   "cell_type": "code",
   "execution_count": 9,
   "metadata": {},
   "outputs": [
    {
     "data": {
      "text/plain": [
       "{5: 25, 8: 64, 7: 49, 9: 81}"
      ]
     },
     "execution_count": 9,
     "metadata": {},
     "output_type": "execute_result"
    }
   ],
   "source": [
    "dict(zip(a,b))"
   ]
  },
  {
   "cell_type": "code",
   "execution_count": 10,
   "metadata": {},
   "outputs": [
    {
     "data": {
      "text/plain": [
       "{1: 's', 2: 'm', 3: 'l', 4: 'xl'}"
      ]
     },
     "execution_count": 10,
     "metadata": {},
     "output_type": "execute_result"
    }
   ],
   "source": [
    "dict(zip(size.values(),size.keys()))"
   ]
  },
  {
   "cell_type": "code",
   "execution_count": 11,
   "metadata": {},
   "outputs": [
    {
     "data": {
      "text/plain": [
       "[('s', 1), ('m', 2), ('l', 3), ('xl', 4)]"
      ]
     },
     "execution_count": 11,
     "metadata": {},
     "output_type": "execute_result"
    }
   ],
   "source": [
    "list(size.items())"
   ]
  },
  {
   "cell_type": "code",
   "execution_count": 12,
   "metadata": {},
   "outputs": [],
   "source": [
    "a = {5,4,6,9}"
   ]
  },
  {
   "cell_type": "code",
   "execution_count": 13,
   "metadata": {},
   "outputs": [
    {
     "data": {
      "text/plain": [
       "{4, 5, 6, 9}"
      ]
     },
     "execution_count": 13,
     "metadata": {},
     "output_type": "execute_result"
    }
   ],
   "source": [
    "a"
   ]
  },
  {
   "cell_type": "code",
   "execution_count": 14,
   "metadata": {},
   "outputs": [
    {
     "data": {
      "text/plain": [
       "set"
      ]
     },
     "execution_count": 14,
     "metadata": {},
     "output_type": "execute_result"
    }
   ],
   "source": [
    "type(a)"
   ]
  },
  {
   "cell_type": "code",
   "execution_count": 15,
   "metadata": {},
   "outputs": [
    {
     "data": {
      "text/plain": [
       "{4, 5, 6, 9}"
      ]
     },
     "execution_count": 15,
     "metadata": {},
     "output_type": "execute_result"
    }
   ],
   "source": [
    "a = {5,4,6,9,9,9,5,4}\n",
    "a"
   ]
  },
  {
   "cell_type": "code",
   "execution_count": 16,
   "metadata": {},
   "outputs": [
    {
     "data": {
      "text/plain": [
       "4"
      ]
     },
     "execution_count": 16,
     "metadata": {},
     "output_type": "execute_result"
    }
   ],
   "source": [
    "len(a)"
   ]
  },
  {
   "cell_type": "code",
   "execution_count": 17,
   "metadata": {},
   "outputs": [
    {
     "data": {
      "text/plain": [
       "24"
      ]
     },
     "execution_count": 17,
     "metadata": {},
     "output_type": "execute_result"
    }
   ],
   "source": [
    "sum(a)"
   ]
  },
  {
   "cell_type": "code",
   "execution_count": 18,
   "metadata": {},
   "outputs": [
    {
     "data": {
      "text/plain": [
       "9"
      ]
     },
     "execution_count": 18,
     "metadata": {},
     "output_type": "execute_result"
    }
   ],
   "source": [
    "max(a)"
   ]
  },
  {
   "cell_type": "code",
   "execution_count": 19,
   "metadata": {},
   "outputs": [
    {
     "data": {
      "text/plain": [
       "4"
      ]
     },
     "execution_count": 19,
     "metadata": {},
     "output_type": "execute_result"
    }
   ],
   "source": [
    "min(a)"
   ]
  },
  {
   "cell_type": "code",
   "execution_count": 20,
   "metadata": {},
   "outputs": [
    {
     "data": {
      "text/plain": [
       "{4, 5, 6, 7, 8, 9}"
      ]
     },
     "execution_count": 20,
     "metadata": {},
     "output_type": "execute_result"
    }
   ],
   "source": [
    "L1 = [5,6,8,9,4,5,6,7,5,6,7,4,5,6]\n",
    "set(L1)"
   ]
  },
  {
   "cell_type": "code",
   "execution_count": 21,
   "metadata": {},
   "outputs": [
    {
     "data": {
      "text/plain": [
       "[5, 6, 8, 9, 4, 5, 6, 7, 5, 6, 7, 4, 5, 6]"
      ]
     },
     "execution_count": 21,
     "metadata": {},
     "output_type": "execute_result"
    }
   ],
   "source": [
    "L1"
   ]
  },
  {
   "cell_type": "code",
   "execution_count": 22,
   "metadata": {},
   "outputs": [
    {
     "data": {
      "text/plain": [
       "{4, 5, 7, 8}"
      ]
     },
     "execution_count": 22,
     "metadata": {},
     "output_type": "execute_result"
    }
   ],
   "source": [
    "L1 = [5,6,8,9,4,5,6,7,5,6,7,4,5,6]\n",
    "L2 = [8,5,4,7,8,1,0,3,10]\n",
    "set(L1).intersection(set(L2))"
   ]
  },
  {
   "cell_type": "code",
   "execution_count": 23,
   "metadata": {},
   "outputs": [
    {
     "data": {
      "text/plain": [
       "{0, 1, 3, 4, 5, 6, 7, 8, 9, 10}"
      ]
     },
     "execution_count": 23,
     "metadata": {},
     "output_type": "execute_result"
    }
   ],
   "source": [
    "set(L1).union(set(L2))"
   ]
  },
  {
   "cell_type": "code",
   "execution_count": 24,
   "metadata": {},
   "outputs": [
    {
     "data": {
      "text/plain": [
       "{6, 9}"
      ]
     },
     "execution_count": 24,
     "metadata": {},
     "output_type": "execute_result"
    }
   ],
   "source": [
    "set(L1) - set(L2)"
   ]
  },
  {
   "cell_type": "code",
   "execution_count": 25,
   "metadata": {},
   "outputs": [
    {
     "data": {
      "text/plain": [
       "{6, 9}"
      ]
     },
     "execution_count": 25,
     "metadata": {},
     "output_type": "execute_result"
    }
   ],
   "source": [
    "set(L1).difference(set(L2))"
   ]
  },
  {
   "cell_type": "code",
   "execution_count": 26,
   "metadata": {},
   "outputs": [],
   "source": [
    "t = (5,4,7,8,5,4)"
   ]
  },
  {
   "cell_type": "code",
   "execution_count": 27,
   "metadata": {},
   "outputs": [
    {
     "data": {
      "text/plain": [
       "tuple"
      ]
     },
     "execution_count": 27,
     "metadata": {},
     "output_type": "execute_result"
    }
   ],
   "source": [
    "type(t)"
   ]
  },
  {
   "cell_type": "code",
   "execution_count": 29,
   "metadata": {},
   "outputs": [
    {
     "data": {
      "text/plain": [
       "(5, 4, 7)"
      ]
     },
     "execution_count": 29,
     "metadata": {},
     "output_type": "execute_result"
    }
   ],
   "source": [
    "t[0:3]"
   ]
  },
  {
   "cell_type": "code",
   "execution_count": 30,
   "metadata": {},
   "outputs": [
    {
     "data": {
      "text/plain": [
       "(4, 5, 8, 7, 4, 5)"
      ]
     },
     "execution_count": 30,
     "metadata": {},
     "output_type": "execute_result"
    }
   ],
   "source": [
    "t[::-1]"
   ]
  },
  {
   "cell_type": "code",
   "execution_count": 31,
   "metadata": {},
   "outputs": [
    {
     "ename": "TypeError",
     "evalue": "'tuple' object does not support item assignment",
     "output_type": "error",
     "traceback": [
      "\u001b[1;31m---------------------------------------------------------------------------\u001b[0m",
      "\u001b[1;31mTypeError\u001b[0m                                 Traceback (most recent call last)",
      "Cell \u001b[1;32mIn[31], line 1\u001b[0m\n\u001b[1;32m----> 1\u001b[0m \u001b[43mt\u001b[49m\u001b[43m[\u001b[49m\u001b[38;5;241;43m0\u001b[39;49m\u001b[43m]\u001b[49m \u001b[38;5;241m=\u001b[39m \u001b[38;5;241m500\u001b[39m\n",
      "\u001b[1;31mTypeError\u001b[0m: 'tuple' object does not support item assignment"
     ]
    }
   ],
   "source": [
    "t[0] = 500"
   ]
  },
  {
   "cell_type": "code",
   "execution_count": 32,
   "metadata": {},
   "outputs": [
    {
     "data": {
      "text/plain": [
       "(5, 6, 8, 9, 4, 5, 6, 7, 5, 6, 7, 4, 5, 6)"
      ]
     },
     "execution_count": 32,
     "metadata": {},
     "output_type": "execute_result"
    }
   ],
   "source": [
    "tuple(L1)"
   ]
  },
  {
   "cell_type": "code",
   "execution_count": 34,
   "metadata": {},
   "outputs": [
    {
     "data": {
      "text/plain": [
       "[0, 1, 3, 6, 9, 10]"
      ]
     },
     "execution_count": 34,
     "metadata": {},
     "output_type": "execute_result"
    }
   ],
   "source": [
    "#1\n",
    "L1 = [5,6,8,9,4,5,6,7,5,6,7,4,5,6]\n",
    "L2 = [8,5,4,7,8,1,0,3,10]\n",
    "result = []\n",
    "for i in L1:\n",
    "    if i not in L2:\n",
    "        result.append(i)\n",
    "for i in L2:\n",
    "    if i not in L1:\n",
    "        result.append(i)\n",
    "list(set(result))"
   ]
  },
  {
   "cell_type": "code",
   "execution_count": 36,
   "metadata": {},
   "outputs": [
    {
     "data": {
      "text/plain": [
       "{6, 9}"
      ]
     },
     "execution_count": 36,
     "metadata": {},
     "output_type": "execute_result"
    }
   ],
   "source": [
    "set(L1)- set(L2)"
   ]
  },
  {
   "cell_type": "code",
   "execution_count": 37,
   "metadata": {},
   "outputs": [
    {
     "data": {
      "text/plain": [
       "{0, 1, 3, 10}"
      ]
     },
     "execution_count": 37,
     "metadata": {},
     "output_type": "execute_result"
    }
   ],
   "source": [
    "set(L2)-set(L1)"
   ]
  },
  {
   "cell_type": "code",
   "execution_count": 38,
   "metadata": {},
   "outputs": [
    {
     "data": {
      "text/plain": [
       "[0, 1, 3, 6, 9, 10]"
      ]
     },
     "execution_count": 38,
     "metadata": {},
     "output_type": "execute_result"
    }
   ],
   "source": [
    "list((set(L1)- set(L2)).union(set(L2)-set(L1)))"
   ]
  },
  {
   "cell_type": "code",
   "execution_count": 39,
   "metadata": {},
   "outputs": [
    {
     "data": {
      "text/plain": [
       "[5, 6, 8, 9, 4, 5, 6, 7, 5, 6, 7, 4, 5, 6]"
      ]
     },
     "execution_count": 39,
     "metadata": {},
     "output_type": "execute_result"
    }
   ],
   "source": [
    "L1"
   ]
  },
  {
   "cell_type": "code",
   "execution_count": 41,
   "metadata": {},
   "outputs": [
    {
     "data": {
      "text/plain": [
       "False"
      ]
     },
     "execution_count": 41,
     "metadata": {},
     "output_type": "execute_result"
    }
   ],
   "source": [
    "sorted(L1) == L1"
   ]
  },
  {
   "cell_type": "code",
   "execution_count": 42,
   "metadata": {},
   "outputs": [
    {
     "data": {
      "text/plain": [
       "False"
      ]
     },
     "execution_count": 42,
     "metadata": {},
     "output_type": "execute_result"
    }
   ],
   "source": [
    "flag = True\n",
    "pr = L1[0]\n",
    "for i in L1[1:]:\n",
    "    if i <= pr:\n",
    "        flag = False\n",
    "        break\n",
    "    pr = i\n",
    "\n",
    "flag   "
   ]
  },
  {
   "cell_type": "code",
   "execution_count": 47,
   "metadata": {},
   "outputs": [
    {
     "name": "stdout",
     "output_type": "stream",
     "text": [
      "[4, 4, 5, 5, 5, 5, 6, 6, 6, 6, 7, 7, 8, 9]\n"
     ]
    },
    {
     "data": {
      "text/plain": [
       "True"
      ]
     },
     "execution_count": 47,
     "metadata": {},
     "output_type": "execute_result"
    }
   ],
   "source": [
    "flag = True\n",
    "L1 = sorted(L1)\n",
    "print(L1)\n",
    "pr = L1[0]\n",
    "\n",
    "for i in L1[1:]:\n",
    "    if i < pr:\n",
    "        flag = False\n",
    "        break\n",
    "    pr = i\n",
    "\n",
    "flag "
   ]
  },
  {
   "cell_type": "code",
   "execution_count": 67,
   "metadata": {},
   "outputs": [
    {
     "data": {
      "text/plain": [
       "['hello',\n",
       " 'hello',\n",
       " 'hello',\n",
       " 'hello',\n",
       " 'hello',\n",
       " 'hello',\n",
       " 'hello',\n",
       " 'hello',\n",
       " 'hello',\n",
       " 'hello',\n",
       " 'hello',\n",
       " 'hello',\n",
       " 'hello',\n",
       " 'hello',\n",
       " 'hello',\n",
       " 'hello',\n",
       " 'hello']"
      ]
     },
     "execution_count": 67,
     "metadata": {},
     "output_type": "execute_result"
    }
   ],
   "source": [
    "import random\n",
    "r = [random.choice(['hello','mello','yello','hallo']) for _ in range(100)]\n",
    "result = []\n",
    "for item in r:\n",
    "    if item == 'hello':\n",
    "        result.append(item)\n",
    "result"
   ]
  },
  {
   "cell_type": "code",
   "execution_count": 68,
   "metadata": {},
   "outputs": [
    {
     "data": {
      "text/plain": [
       "{'milk': 4, 'suger': 5, 'butter': 10, 'yogurt': 1, 'cheese': 3}"
      ]
     },
     "execution_count": 68,
     "metadata": {},
     "output_type": "execute_result"
    }
   ],
   "source": [
    "list_1=['milk','suger','butter','yogurt','cheese']\n",
    "list_2 = [4,5,10,1,3]\n",
    "dict(zip(list_1,list_2))"
   ]
  },
  {
   "cell_type": "code",
   "execution_count": 69,
   "metadata": {},
   "outputs": [
    {
     "data": {
      "text/plain": [
       "{'milk': 4, 'suger': 5, 'butter': 10, 'yogurt': 1, 'cheese': 3}"
      ]
     },
     "execution_count": 69,
     "metadata": {},
     "output_type": "execute_result"
    }
   ],
   "source": [
    "d = {}\n",
    "c = 0\n",
    "for i in list_1:\n",
    "    d[i] = list_2[c]\n",
    "    c += 1\n",
    "d"
   ]
  },
  {
   "cell_type": "code",
   "execution_count": 70,
   "metadata": {},
   "outputs": [
    {
     "name": "stdout",
     "output_type": "stream",
     "text": [
      "0 milk\n",
      "1 suger\n",
      "2 butter\n",
      "3 yogurt\n",
      "4 cheese\n"
     ]
    }
   ],
   "source": [
    "for i, item in enumerate(list_1):\n",
    "    print(i, item)"
   ]
  },
  {
   "cell_type": "code",
   "execution_count": 71,
   "metadata": {},
   "outputs": [
    {
     "data": {
      "text/plain": [
       "{'milk': 4, 'suger': 5, 'butter': 10, 'yogurt': 1, 'cheese': 3}"
      ]
     },
     "execution_count": 71,
     "metadata": {},
     "output_type": "execute_result"
    }
   ],
   "source": [
    "d = {}\n",
    "for i, item in enumerate(list_1):\n",
    "    d[item] = list_2[i]\n",
    "d"
   ]
  },
  {
   "cell_type": "code",
   "execution_count": 73,
   "metadata": {},
   "outputs": [
    {
     "name": "stdout",
     "output_type": "stream",
     "text": [
      "0 milk\n",
      "1 suger\n",
      "2 butter\n",
      "3 yogurt\n",
      "4 cheese\n"
     ]
    }
   ],
   "source": [
    "for i , item in enumerate(d):\n",
    "    print(i, item)"
   ]
  },
  {
   "cell_type": "code",
   "execution_count": 74,
   "metadata": {},
   "outputs": [
    {
     "data": {
      "text/plain": [
       "(1, 10)"
      ]
     },
     "execution_count": 74,
     "metadata": {},
     "output_type": "execute_result"
    }
   ],
   "source": [
    "min(d.values()), max(d.values())"
   ]
  },
  {
   "cell_type": "code",
   "execution_count": 76,
   "metadata": {},
   "outputs": [
    {
     "data": {
      "text/plain": [
       "{'Text': 1,\n",
       " 'Encoder:': 2,\n",
       " 'The': 5,\n",
       " 'text': 2,\n",
       " 'endoer': 1,\n",
       " 'is': 3,\n",
       " 'a': 5,\n",
       " 'transformer': 1,\n",
       " 'based': 1,\n",
       " 'on': 3,\n",
       " 'the': 6,\n",
       " 'famous': 1,\n",
       " 'Attention': 1,\n",
       " 'All': 1,\n",
       " 'You': 1,\n",
       " 'Need': 1,\n",
       " 'paper.': 1,\n",
       " 'team': 5,\n",
       " 'has': 1,\n",
       " 'used': 2,\n",
       " '63M-parameter': 1,\n",
       " '12-layer': 1,\n",
       " '512-wide': 1,\n",
       " 'model': 1,\n",
       " 'with': 2,\n",
       " '8': 1,\n",
       " 'attention': 1,\n",
       " 'heads.': 1,\n",
       " 'Image': 1,\n",
       " 'For': 1,\n",
       " 'image': 3,\n",
       " 'encoder,': 1,\n",
       " 'considered': 1,\n",
       " 'two': 2,\n",
       " 'models': 2,\n",
       " '-': 1,\n",
       " 'Resnet': 1,\n",
       " 'and': 4,\n",
       " 'ViT.': 1,\n",
       " 'experimented': 1,\n",
       " 'different': 1,\n",
       " 'variations': 1,\n",
       " 'of': 5,\n",
       " 'these': 1,\n",
       " 'ultimately': 1,\n",
       " 'found': 1,\n",
       " 'that': 3,\n",
       " 'ViT': 1,\n",
       " 'performed': 1,\n",
       " 'best': 1,\n",
       " 'it': 1,\n",
       " 'as': 2,\n",
       " 'an': 1,\n",
       " 'encoder': 1,\n",
       " 'Dataset:': 1,\n",
       " 'Thea': 1,\n",
       " 'constructed': 1,\n",
       " 'new': 1,\n",
       " 'dataset': 2,\n",
       " '400': 1,\n",
       " 'million(image,': 1,\n",
       " 'text)': 1,\n",
       " 'pairs': 1,\n",
       " 'collected': 1,\n",
       " 'from': 1,\n",
       " 'variety': 1,\n",
       " 'publicly': 1,\n",
       " 'available': 1,\n",
       " 'sources': 1,\n",
       " 'Internet.': 1,\n",
       " 'focused': 1,\n",
       " 'including': 1,\n",
       " 'all': 1,\n",
       " 'words': 2,\n",
       " 'were': 1,\n",
       " 'present': 2,\n",
       " 'at': 2,\n",
       " 'least': 2,\n",
       " '100': 1,\n",
       " 'times': 1,\n",
       " 'in': 3,\n",
       " 'English': 1,\n",
       " 'version': 1,\n",
       " 'Wikipedia': 1,\n",
       " 'which': 1,\n",
       " 'resulted': 1,\n",
       " 'set': 1,\n",
       " '500000': 1,\n",
       " 'ensured': 1,\n",
       " 'each': 1,\n",
       " 'word': 1,\n",
       " 'was': 1,\n",
       " '20000': 1,\n",
       " 'pairs.': 1,\n",
       " 'referred': 1,\n",
       " 'to': 1,\n",
       " 'WebImageText': 1,\n",
       " '(WIT)': 1}"
      ]
     },
     "execution_count": 76,
     "metadata": {},
     "output_type": "execute_result"
    }
   ],
   "source": [
    "clip = '''Text Encoder: The text endoer is a transformer based on the famous Attention is All You Need paper. The team has used a 63M-parameter 12-layer 512-wide model with 8 attention heads.\n",
    "Image Encoder: For the image encoder, the team considered two models - Resnet and ViT. The team experimented with different variations of these two models and ultimately found that ViT performed the best and used it as an image encoder\n",
    "Dataset: Thea team constructed a new dataset of 400 million(image, text) pairs collected from a variety of publicly available sources on the Internet. The team focused on including all words that were present at least 100 times in the English version of Wikipedia which resulted in a set of 500000 words and ensured that each word was present at least in 20000 image text pairs. The dataset is referred to as WebImageText (WIT)'''\n",
    "clip = clip.split()\n",
    "result = {}\n",
    "for item in clip:\n",
    "    result[item] = clip.count(item)\n",
    "result"
   ]
  }
 ],
 "metadata": {
  "kernelspec": {
   "display_name": "Python 3",
   "language": "python",
   "name": "python3"
  },
  "language_info": {
   "codemirror_mode": {
    "name": "ipython",
    "version": 3
   },
   "file_extension": ".py",
   "mimetype": "text/x-python",
   "name": "python",
   "nbconvert_exporter": "python",
   "pygments_lexer": "ipython3",
   "version": "3.10.10"
  }
 },
 "nbformat": 4,
 "nbformat_minor": 2
}
